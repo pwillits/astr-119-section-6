{
 "cells": [
  {
   "cell_type": "markdown",
   "metadata": {},
   "source": [
    "## Example of performing linear least squares fitting\n",
    "\n",
    "first we import numpy as matplotlib as usual"
   ]
  },
  {
   "cell_type": "code",
   "execution_count": null,
   "metadata": {},
   "outputs": [],
   "source": [
    "%matplotlib inline\n",
    "import matplotlib.pyplot as plt\n",
    "import numpy as np"
   ]
  },
  {
   "cell_type": "markdown",
   "metadata": {},
   "source": [
    "Now let's generate some random data about a trend line"
   ]
  },
  {
   "cell_type": "code",
   "execution_count": null,
   "metadata": {},
   "outputs": [],
   "source": [
    "#set a random number seed\n",
    "np.random.seed(119)\n",
    "\n",
    "#set number of data points\n",
    "npoints = 50\n",
    "\n",
    "#setx\n",
    "x = np.linspace(0,10,npoints)\n",
    "\n",
    "#set slope, intercept, and scatter rms\n",
    "m = 2.0\n",
    "b = 1.0\n",
    "sigma = 2.0\n",
    "\n",
    "#generate y points\n",
    "y = m*x + b + np.random.normal(scale=sigma,size=npoints)"
   ]
  },
  {
   "cell_type": "code",
   "execution_count": null,
   "metadata": {},
   "outputs": [],
   "source": [
    "f = plt.figure(figsize=(7,7))\n",
    "plt.errorbar(x,y,sigma,fmt='o')#fmt makes big dots for each data point, sigma is in reference to the size of the error bars\n",
    "plt.xlabel('x')\n",
    "plt.ylabel('y')"
   ]
  },
  {
   "cell_type": "code",
   "execution_count": null,
   "metadata": {},
   "outputs": [],
   "source": [
    "m_fit, b_fit = np.poly1d(np.polyfit(x ,y, 1, w=1./y_err)) #weight with uncertainties\n",
    "print(m_fit, b_fit)\n",
    "\n",
    "y_fit = m_fit *x + b_fit"
   ]
  },
  {
   "cell_type": "code",
   "execution_count": null,
   "metadata": {},
   "outputs": [],
   "source": []
  }
 ],
 "metadata": {
  "kernelspec": {
   "display_name": "Python 3",
   "language": "python",
   "name": "python3"
  },
  "language_info": {
   "codemirror_mode": {
    "name": "ipython",
    "version": 3
   },
   "file_extension": ".py",
   "mimetype": "text/x-python",
   "name": "python",
   "nbconvert_exporter": "python",
   "pygments_lexer": "ipython3",
   "version": "3.6.5"
  }
 },
 "nbformat": 4,
 "nbformat_minor": 2
}
